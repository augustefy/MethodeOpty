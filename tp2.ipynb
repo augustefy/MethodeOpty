{
 "cells": [
  {
   "cell_type": "code",
   "execution_count": 16,
   "id": "cf4cb3ad-b585-4695-9f26-9f2575146191",
   "metadata": {},
   "outputs": [
    {
     "name": "stdout",
     "output_type": "stream",
     "text": [
      "413.0\n"
     ]
    },
    {
     "data": {
      "text/plain": [
       "[0, 1, 2, 3, 4, 5, 7, 11, 12, 13, 15, 18, 19]"
      ]
     },
     "execution_count": 16,
     "metadata": {},
     "output_type": "execute_result"
    }
   ],
   "source": [
    "import random\n",
    "G = graphs.RandomGNP(20,0.2)\n",
    "G.plot\n",
    "\n",
    "\n",
    "def RandomDico(G):\n",
    "    dico = {}\n",
    "    for v in G.vertices():\n",
    "        dico[v] = random.randint(0, 100)\n",
    "    return dico\n",
    "\n",
    "c=RandomDico(G)\n",
    "\n",
    "def CS_PLNE(G, c):\n",
    "    p = MixedIntegerLinearProgram(maximization=False)\n",
    "    vars = p.new_variable(integer=True, nonnegative=True)\n",
    "    \n",
    "    p.set_objective(p.sum(vars[v] * c[v] for v in G.vertices()))\n",
    "    \n",
    "    for u, v in G.edges(labels=False):\n",
    "        p.add_constraint(vars[u] + vars[v] >= 1)\n",
    "    \n",
    "    opt = p.solve()\n",
    "    \n",
    "    print(opt) #afficher la valeur optimale du PL et les valeurs des variables\n",
    "    solution = [v for v in G.vertices() if p.get_values(vars[v]) >= 0.5]\n",
    "    return solution\n",
    "\n",
    "CS_PLNE(G, c)"
   ]
  },
  {
   "cell_type": "code",
   "execution_count": null,
   "id": "30de330d",
   "metadata": {},
   "outputs": [],
   "source": []
  }
 ],
 "metadata": {
  "kernelspec": {
   "display_name": "SageMath 10.4",
   "language": "sage",
   "name": "SageMath-10.4"
  },
  "language_info": {
   "codemirror_mode": {
    "name": "ipython",
    "version": 3
   },
   "file_extension": ".py",
   "mimetype": "text/x-python",
   "name": "python",
   "nbconvert_exporter": "python",
   "pygments_lexer": "ipython3",
   "version": "3.12.4"
  }
 },
 "nbformat": 4,
 "nbformat_minor": 5
}
