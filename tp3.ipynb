{
 "cells": [
  {
   "cell_type": "code",
   "execution_count": 2,
   "id": "8c173f27-ca2e-43aa-bb10-e2280f2d5a5f",
   "metadata": {},
   "outputs": [],
   "source": [
    "def tournee_gloutonne(M):\n",
    "    n = len(M)\n",
    "    visited = [False] * n\n",
    "    T = []\n",
    "    current_city = 0\n",
    "    T.append(current_city)\n",
    "    visited[current_city] = True\n",
    "\n",
    "    for i in range(n - 1):\n",
    "\n",
    "        next_city = None\n",
    "        min_distance = float('inf')\n",
    "        for j in range(n):\n",
    "            if not visited[j] and M[current_city][j] < min_distance:\n",
    "                min_distance = M[current_city][j]\n",
    "                next_city = j\n",
    "        T.append(next_city)\n",
    "        visited[next_city] = True\n",
    "\n",
    "        current_city = next_city\n",
    "\n",
    "    T.append(T[0])\n",
    "    return T\n",
    "\n",
    "\n",
    "def nb_ville(M):\n",
    "    return len(M)\n",
    "\n",
    "\n",
    "distances_5villes = [\n",
    "    [0, 376, 377, 167, 475],\n",
    "    [376, 0, 244, 556, 646],\n",
    "    [377, 244, 0, 538, 404],\n",
    "    [167, 556, 538, 0, 314],\n",
    "    [475, 646, 404, 314, 0]\n",
    "]\n",
    "\n",
    "\n",
    "\n",
    "x = tournee_gloutonne(distances_5villes)\n",
    "print(x)\n",
    "\n",
    "nb_ville = nb_ville(distances_5villes)\n",
    "print(nb_ville)"
   ]
  }
 ],
 "metadata": {
  "kernelspec": {
   "display_name": "SageMath 10.4",
   "language": "sage",
   "name": "SageMath-10.4"
  },
  "language_info": {
   "codemirror_mode": {
    "name": "ipython",
    "version": 3
   },
   "file_extension": ".py",
   "mimetype": "text/x-python",
   "name": "python",
   "nbconvert_exporter": "python",
   "pygments_lexer": "ipython3",
   "version": "3.12.4"
  }
 },
 "nbformat": 4,
 "nbformat_minor": 5
}
